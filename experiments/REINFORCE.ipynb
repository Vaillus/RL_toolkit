{
 "cells": [
  {
   "cell_type": "markdown",
   "id": "alert-croatia",
   "metadata": {},
   "source": [
    "# REINFORCE"
   ]
  },
  {
   "cell_type": "markdown",
   "id": "literary-ready",
   "metadata": {},
   "source": [
    "REINFORCE is a policy gradient Monte-Carlo approach. It is an on-policy method because otherwise the formula it is based upon wouldn't work.\n",
    "\n",
    "\n",
    "$$\n",
    "𝜃𝑡+1=𝜃𝑡+𝛼𝛾𝑡𝐺𝑡▿ln𝜋(𝐴𝑡|𝑆𝑡,𝜃)\n",
    "$$\n",
    "\n",
    "\n",
    "we have an ln because we had a formula of the form $\\frac{\\triangledown x}{x} = \\triangledown \\ln x$"
   ]
  },
  {
   "cell_type": "markdown",
   "id": "mexican-registrar",
   "metadata": {},
   "source": [
    "# REINFORCE with Baseline"
   ]
  },
  {
   "cell_type": "markdown",
   "id": "daily-horse",
   "metadata": {},
   "source": [
    "it converges much faster because we substract the state value to the MC gain, which tells us the action taken is better than what could be expected according to the actual estimation of the state value. \n",
    "\n",
    "We therefore also predict the state value with another set of parameters w.\n",
    "\n",
    "\n",
    "$$\n",
    "w_{t+1} = w_t + \\alpha^w \\gamma^t (G_t-V(S_t, w)) \\triangledown_wv(S_t,w)\n",
    "$$\n",
    "\n",
    "\n",
    "$$\n",
    "\\theta_{t+1} = \\theta_t + \\alpha^{\\theta} \\gamma^t (G_t-V(S_t, w)) \\triangledown \\ln \\pi(A_t|S_t, \\theta)\n",
    "$$\n",
    " "
   ]
  },
  {
   "cell_type": "markdown",
   "id": "forward-dispatch",
   "metadata": {},
   "source": [
    "I know that you can put in common the parameters for the policy estimator and the state value approximator, But I have read somewhere that it is better not to do that."
   ]
  },
  {
   "cell_type": "markdown",
   "id": "bizarre-screening",
   "metadata": {},
   "source": [
    "# Models comparison"
   ]
  },
  {
   "cell_type": "code",
   "execution_count": 3,
   "id": "tribal-clothing",
   "metadata": {},
   "outputs": [],
   "source": [
    "import  os\n",
    "os.chdir(os.path.dirname(\"../\"))\n",
    "from utils import get_params\n",
    "from Experiment import Experiment"
   ]
  },
  {
   "cell_type": "code",
   "execution_count": 5,
   "id": "wanted-dependence",
   "metadata": {},
   "outputs": [
    {
     "name": "stdout",
     "output_type": "stream",
     "text": [
      "{'experiment_type': 'models comparison', 'num_sessions': 2, 'session_variants': {}, 'avg_results': True, 'session_params_names': ['reinforce_params', 'reinforce_with_baseline_params'], 'sessions_params': [{'session_info': {'session_type': 'REINFORCE', 'num_episodes': 1000, 'plot': False, 'show': False, 'show_every': 500, 'environment_name': 'CartPole-v0', 'return_results': True}, 'agent_info': {'discount_factor': 0.99, 'policy_estimator_info': {'layers_info': [{'type': 'linear', 'input_size': 4, 'output_size': 16, 'activation': 'relu'}, {'type': 'linear', 'input_size': 16, 'output_size': 2, 'activation': 'softmax'}], 'optimizer_info': {'type': 'adam', 'learning_rate': 0.001}}}}, {'session_info': {'session_type': 'REINFORCE with baseline', 'num_episodes': 1000, 'plot': False, 'show': False, 'show_every': 500, 'environment_name': 'CartPole-v0', 'return_results': True}, 'agent_info': {'discount_factor': 0.99, 'policy_estimator_info': {'layers_info': [{'type': 'linear', 'input_size': 4, 'output_size': 16, 'activation': 'relu'}, {'type': 'linear', 'input_size': 16, 'output_size': 2, 'activation': 'softmax'}], 'optimizer_info': {'type': 'adam', 'learning_rate': 0.001}}, 'function_approximator_info': {'layers_info': [{'type': 'linear', 'input_size': 4, 'output_size': 16, 'activation': 'relu'}, {'type': 'linear', 'input_size': 16, 'output_size': 1, 'activation': 'none'}], 'optimizer_info': {'type': 'adam', 'learning_rate': 0.001}}}}]}\n"
     ]
    }
   ],
   "source": [
    "exp_param = get_params('experiments/experiment_different_models_params')\n",
    "exp_param = Experiment.load_exp_param(exp_param)\n",
    "print(exp_param)"
   ]
  },
  {
   "cell_type": "code",
   "execution_count": 3,
   "id": "thorough-welding",
   "metadata": {},
   "outputs": [
    {
     "name": "stderr",
     "output_type": "stream",
     "text": [
      "/home/vaillus/projects/RL_toolkit/CustomNeuralNetwork.py:64: UserWarning: Implicit dimension choice for softmax has been deprecated. Change the call to include dim=X as an argument.\n",
      "  x = F.softmax(self.layers[i](x))\n",
      "/home/vaillus/.local/lib/python3.8/site-packages/torch/autograd/__init__.py:130: UserWarning: CUDA initialization: Found no NVIDIA driver on your system. Please check that you have an NVIDIA GPU and installed a driver from http://www.nvidia.com/Download/index.aspx (Triggered internally at  /pytorch/c10/cuda/CUDAFunctions.cpp:100.)\n",
      "  Variable._execution_engine.run_backward(\n"
     ]
    },
    {
     "data": {
      "image/png": "[encoded data removed]",
      "text/plain": [
       "<Figure size 432x288 with 1 Axes>"
      ]
     },
     "metadata": {
      "needs_background": "light"
     },
     "output_type": "display_data"
    }
   ],
   "source": [
    "experiment = Experiment(exp_param)\n",
    "experiment.run_meaningful_session()"
   ]
  },
  {
   "cell_type": "markdown",
   "id": "chicken-appraisal",
   "metadata": {},
   "source": [
    "We can see that REINFORCE converges faster with a baseline, and it gives better results overall. It also seams to be more stable."
   ]
  },
  {
   "cell_type": "code",
   "execution_count": 6,
   "id": "union-windows",
   "metadata": {},
   "outputs": [],
   "source": [
    "from Session import Session\n",
    "sess = Session(exp_param[\"sessions_params\"][0])"
   ]
  },
  {
   "cell_type": "code",
   "execution_count": 7,
   "id": "promising-chick",
   "metadata": {},
   "outputs": [
    {
     "name": "stderr",
     "output_type": "stream",
     "text": [
      "/home/vaillus/.local/lib/python3.8/site-packages/torch/cuda/__init__.py:104: UserWarning: \n",
      "GeForce RTX 3070 with CUDA capability sm_86 is not compatible with the current PyTorch installation.\n",
      "The current PyTorch install supports CUDA capabilities sm_37 sm_50 sm_60 sm_70 sm_75.\n",
      "If you want to use the GeForce RTX 3070 GPU with PyTorch, please check the instructions at https://pytorch.org/get-started/locally/\n",
      "\n",
      "  warnings.warn(incompatible_device_warn.format(device_name, capability, \" \".join(arch_list), device_name))\n"
     ]
    },
    {
     "data": {
      "text/plain": [
       "CustomNeuralNetwork(\n",
       "  (layers): ModuleList(\n",
       "    (0): Linear(in_features=4, out_features=16, bias=True)\n",
       "    (1): Linear(in_features=16, out_features=2, bias=True)\n",
       "  )\n",
       ")"
      ]
     },
     "execution_count": 7,
     "metadata": {},
     "output_type": "execute_result"
    }
   ],
   "source": [
    "sess.agent.policy_estimator.to(\"cuda\")\n",
    "#sess.agent.policy_estimator.device"
   ]
  },
  {
   "cell_type": "code",
   "execution_count": 7,
   "id": "automotive-mumbai",
   "metadata": {},
   "outputs": [
    {
     "name": "stderr",
     "output_type": "stream",
     "text": [
      "/home/vaillus/.local/lib/python3.8/site-packages/torch/cuda/__init__.py:52: UserWarning: CUDA initialization: Found no NVIDIA driver on your system. Please check that you have an NVIDIA GPU and installed a driver from http://www.nvidia.com/Download/index.aspx (Triggered internally at  /pytorch/c10/cuda/CUDAFunctions.cpp:100.)\n",
      "  return torch._C._cuda_getDeviceCount() > 0\n"
     ]
    },
    {
     "data": {
      "text/plain": [
       "False"
      ]
     },
     "execution_count": 7,
     "metadata": {},
     "output_type": "execute_result"
    }
   ],
   "source": [
    "import torch\n",
    "torch.cuda.is_available()"
   ]
  }
 ],
 "metadata": {
  "kernelspec": {
   "display_name": "Python 3",
   "language": "python",
   "name": "python3"
  },
  "language_info": {
   "codemirror_mode": {
    "name": "ipython",
    "version": 3
   },
   "file_extension": ".py",
   "mimetype": "text/x-python",
   "name": "python",
   "nbconvert_exporter": "python",
   "pygments_lexer": "ipython3",
   "version": "3.8.5"
  }
 },
 "nbformat": 4,
 "nbformat_minor": 5
}
